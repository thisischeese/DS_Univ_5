{
 "cells": [
  {
   "cell_type": "code",
   "execution_count": 1,
   "id": "9afe9474",
   "metadata": {
    "scrolled": true
   },
   "outputs": [
    {
     "name": "stderr",
     "output_type": "stream",
     "text": [
      "C:\\Users\\cxz01\\AppData\\Local\\Temp\\ipykernel_18480\\256541941.py:30: DeprecationWarning: executable_path has been deprecated, please pass in a Service object\n",
      "  driver = webdriver.Chrome(os.path.join(os.getcwd(), chromedriver_path), options=options)  # chromedriver 열기\n"
     ]
    }
   ],
   "source": [
    "#미니 프로젝트\n",
    "#웹 가져오기 \n",
    "\n",
    "import re\n",
    "import time\n",
    "import os\n",
    "from selenium import webdriver\n",
    "from selenium.webdriver.common.keys import Keys\n",
    "from selenium.webdriver.common.by import By\n",
    "\n",
    "import requests\n",
    "import csv\n",
    "import urllib.request\n",
    "import urllib.parse\n",
    "from bs4 import BeautifulSoup\n",
    "import googlemaps\n",
    "import pandas as pd\n",
    "\n",
    "headers = {\"User-Agent\":\"Mozilla/5.0 (Windows NT 10.0; Win64; x64) AppleWebKit/537.36 (KHTML, like Gecko) Chrome/89.0.4389.114 Safari/537.36\"}\n",
    "list=[]\n",
    "\n",
    "\n",
    "url = \"https://map.kakao.com/\"\n",
    "\n",
    "#현재파일에 있는 크롬 드라이버를 가져와서 열기\n",
    "options = webdriver.ChromeOptions() # 크롬 브라우저 옵션\n",
    "# options.add_argument('headless') # 브라우저 안 띄우기\n",
    "options.add_argument('lang=ko_KR') #  KR 언어\n",
    "chromedriver_path = r\"C:\\Users\\cxz01\\OneDrive\\바탕 화면\\soongsil university\\데이터사이언스\\팀프로젝트\\DS_Univ_5\\web_crawling\\chromedriver_win32\\chromedriver.exe\" # 크롬 드라이버 위치\n",
    "driver = webdriver.Chrome(os.path.join(os.getcwd(), chromedriver_path), options=options)  # chromedriver 열기"
   ]
  },
  {
   "cell_type": "code",
   "execution_count": 2,
   "id": "973f4edc",
   "metadata": {},
   "outputs": [],
   "source": [
    "# 1. 카카오 지도로 이동\n",
    "driver.get(url)\n",
    "\n",
    "searchloc = '한식'\n",
    "filename = 'hansic'\n",
    "\n",
    "#2. 음식점 입력 후 찾기 버튼 클릭 xpath활용\n",
    "search_area = driver.find_element(By.XPATH,'//*[@id=\"search.keyword.query\"]') # 검색 창\n",
    "search_area.send_keys(searchloc)  # 검색어 입력\n",
    "driver.find_element(By.XPATH,'//*[@id=\"search.keyword.submit\"]').send_keys(Keys.ENTER)  # Enter로 검색\n",
    "\n",
    "time.sleep(2)\n",
    "#3 장소 버튼 클릭\n",
    "driver.find_element(By.XPATH,'//*[@id=\"info.main.options\"]/li[2]/a').send_keys(Keys.ENTER) "
   ]
  },
  {
   "cell_type": "code",
   "execution_count": 3,
   "id": "777fe92a",
   "metadata": {},
   "outputs": [],
   "source": [
    "def storeNamePrint():\n",
    "    \n",
    "    time.sleep(0.2)\n",
    "    \n",
    "    html = driver.page_source\n",
    "    soup = BeautifulSoup(html, 'html.parser')\n",
    "    \n",
    "    cafe_lists = soup.select('.placelist > .PlaceItem')\n",
    "    count =1\n",
    "    for cafe in cafe_lists:\n",
    "        \n",
    "        temp=[]\n",
    "        cafe_name = cafe.select('.head_item > .tit_name > .link_name')[0].text  # cafeName \n",
    "        food_score = cafe.select('.rating > .score > .num')[0].text\n",
    "        review = cafe.select('.rating > .review')[0].text\n",
    "        link = cafe.select('.contact > .moreview' )[0]['href']\n",
    "        addr = cafe.select('.addr')[0].text\n",
    "        \n",
    "        \n",
    "        #\"리뷰\" 문자열 제거 후 숫자만 반환\n",
    "        review= review[3:len(review)]\n",
    "        \n",
    "        #숫자만 반환된 문자를 쉼표를 \n",
    "        review = int(re.sub(\",\",\"\",review))\n",
    "     \n",
    "        #temp.append(cafe_name)\n",
    "        temp.append(addr)\n",
    "        temp.append(food_score)\n",
    "        #temp.append(review)\n",
    "        #temp.append(link)\n",
    "        \n",
    "        list.append(temp)\n",
    "        \n",
    "    f=open(filename+'.csv',\"w\",encoding=\"utf-8-sig\",newline=\"\")\n",
    "    writercsv=csv.writer(f)\n",
    "    header=['Addr','Score']\n",
    "    writercsv.writerow(header)\n",
    "\n",
    "    for i in list:\n",
    "        writercsv.writerow(i)"
   ]
  },
  {
   "cell_type": "code",
   "execution_count": 5,
   "id": "e84983a9",
   "metadata": {
    "scrolled": true
   },
   "outputs": [
    {
     "name": "stdout",
     "output_type": "stream",
     "text": [
      "** 1 **\n",
      "** 2 **\n",
      "** 3 **\n",
      "** 4 **\n",
      "** 5 **\n",
      "** 6 **\n",
      "** 7 **\n",
      "** 8 **\n",
      "** 9 **\n",
      "** 10 **\n",
      "** 11 **\n",
      "** 12 **\n",
      "** 13 **\n",
      "** 14 **\n",
      "** 15 **\n",
      "** 16 **\n",
      "** 17 **\n",
      "** 18 **\n",
      "** 19 **\n",
      "** 20 **\n",
      "** 21 **\n",
      "** 22 **\n",
      "** 23 **\n",
      "** 24 **\n",
      "** 25 **\n",
      "** 26 **\n",
      "** 27 **\n",
      "** 28 **\n",
      "** 29 **\n",
      "** 30 **\n",
      "** 31 **\n",
      "** 32 **\n",
      "** 33 **\n",
      "** 34 **\n",
      "**크롤링완료**\n"
     ]
    }
   ],
   "source": [
    "# 전 음식점 받아오기 위해 \n",
    "# 페이지 수를 넘기면서 음식점 크롤링\n",
    "\n",
    "page =1\n",
    "page2=0\n",
    "\n",
    "#1페이지부터 34페이지까지 출력\n",
    "for i in range(0,34):  \n",
    "\n",
    "    #페이지 넘어가며 출력 \n",
    "    try:\n",
    "        page2+=1\n",
    "        print(\"**\",page,\"**\")\n",
    "\n",
    "        driver.find_element(By.XPATH,f'//*[@id=\"info.search.page.no{page2}\"]').send_keys(Keys.ENTER)\n",
    "        storeNamePrint()\n",
    "\n",
    "        if (page2)%5==0:\n",
    "            driver.find_element(By.XPATH,'//*[@id=\"info.search.page.next\"]').send_keys(Keys.ENTER)\n",
    "            page2=0\n",
    "\n",
    "        page+=1\n",
    "    except:\n",
    "        break\n",
    "print(\"**크롤링완료**\")"
   ]
  },
  {
   "cell_type": "code",
   "execution_count": null,
   "id": "67e77ca7",
   "metadata": {},
   "outputs": [],
   "source": []
  }
 ],
 "metadata": {
  "kernelspec": {
   "display_name": "Python [conda env:2023-DS-A] *",
   "language": "python",
   "name": "conda-env-2023-DS-A-py"
  },
  "language_info": {
   "codemirror_mode": {
    "name": "ipython",
    "version": 3
   },
   "file_extension": ".py",
   "mimetype": "text/x-python",
   "name": "python",
   "nbconvert_exporter": "python",
   "pygments_lexer": "ipython3",
   "version": "3.10.9"
  }
 },
 "nbformat": 4,
 "nbformat_minor": 5
}
